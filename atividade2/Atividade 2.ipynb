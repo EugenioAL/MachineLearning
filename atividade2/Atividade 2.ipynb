{
 "cells": [
  {
   "cell_type": "markdown",
   "metadata": {},
   "source": [
    "# Atividade 2: NumPy"
   ]
  },
  {
   "cell_type": "markdown",
   "metadata": {},
   "source": [
    "**Data:**  \n",
    "**Nome:**  "
   ]
  },
  {
   "cell_type": "markdown",
   "metadata": {},
   "source": [
    "## Instruções\n",
    "\n",
    "Acrescente suas próprias células para responder os enunciados.\n",
    "\n",
    "Ao finalizar, submeta a atividade através do ColabWeb."
   ]
  },
  {
   "cell_type": "markdown",
   "metadata": {},
   "source": [
    "## Configuração do Notebook"
   ]
  },
  {
   "cell_type": "code",
   "execution_count": 37,
   "metadata": {},
   "outputs": [],
   "source": [
    "import numpy as np\n",
    "import matplotlib.pyplot as plt"
   ]
  },
  {
   "cell_type": "markdown",
   "metadata": {},
   "source": [
    "## Manipulação de vetores"
   ]
  },
  {
   "cell_type": "markdown",
   "metadata": {},
   "source": [
    "Nos exercícios desta seção você irá construir vetores e matrizes com operações do NumPy."
   ]
  },
  {
   "cell_type": "markdown",
   "metadata": {},
   "source": [
    "**Objetivo**: queremos montar os três vetores a seguir no espaço $\\mathbb{R}^3:$"
   ]
  },
  {
   "cell_type": "markdown",
   "metadata": {},
   "source": [
    "$$v_1 = \\begin{pmatrix}1 \\\\ 0 \\\\0\\end{pmatrix}, v_2 = \\begin{pmatrix}0 \\\\ 2 \\\\4\\end{pmatrix}, v_3 = \\begin{pmatrix}0 \\\\ 1{,}2 \\\\-0{,}6\\end{pmatrix}$$"
   ]
  },
  {
   "cell_type": "markdown",
   "metadata": {},
   "source": [
    "### Primeiro vetor"
   ]
  },
  {
   "cell_type": "markdown",
   "metadata": {},
   "source": [
    "O vetor $v_1$ será declarado diretamente."
   ]
  },
  {
   "cell_type": "markdown",
   "metadata": {},
   "source": [
    "> **Exercício**: instancie um vetor do NumPy a partir da lista `[1, 0, 0]` usando `np.array`. Guarde o resultado na variável `v1`."
   ]
  },
  {
   "cell_type": "code",
   "execution_count": 38,
   "metadata": {},
   "outputs": [
    {
     "data": {
      "text/plain": [
       "array([1, 0, 0])"
      ]
     },
     "execution_count": 38,
     "metadata": {},
     "output_type": "execute_result"
    }
   ],
   "source": [
    "v1 = np.array([1,0,0])\n",
    "v1"
   ]
  },
  {
   "cell_type": "markdown",
   "metadata": {},
   "source": [
    "### Segundo vetor"
   ]
  },
  {
   "cell_type": "markdown",
   "metadata": {},
   "source": [
    "O vetor $v_2$ será construído a partir de três vetores independentes. Vamos fazer isso em dois passos. Primeiro, você deverá criar os três vetores mostrados abaixo."
   ]
  },
  {
   "cell_type": "markdown",
   "metadata": {},
   "source": [
    "$$x_1=\\begin{pmatrix}4\\\\6\\\\8\\end{pmatrix},\n",
    "x_2=\\begin{pmatrix}2\\\\3\\\\4\\end{pmatrix},\n",
    "x_3=\\begin{pmatrix}-2\\\\0\\\\2\\end{pmatrix}$$"
   ]
  },
  {
   "cell_type": "markdown",
   "metadata": {},
   "source": [
    "> **Exercício**: instancie as variáveis `x1`, `x2` e `x3` como indicado acima. Use listas como argumentos de `np.array`."
   ]
  },
  {
   "cell_type": "code",
   "execution_count": 39,
   "metadata": {},
   "outputs": [],
   "source": [
    "x1 = np.array([4,6,8])\n",
    "x2 = np.array([2,3,4])\n",
    "x3 = np.array([-2,0,2])"
   ]
  },
  {
   "cell_type": "markdown",
   "metadata": {},
   "source": [
    "Depois, você deverá efetuar operações aritméticas com os vetores.\n",
    "\n",
    "As operações com operadores do NumPy (`+`, `-`, `/`, `//`, `*` etc.) são usualmente ponto-a-ponto. O vetor $v_2$ pode ser obtido pela operação ponto a ponto mostrada a seguir.\n",
    "\n",
    "$$v_2 = \\frac{x_1}{x_2} + x_3 = \\begin{pmatrix}4/2 - 2 \\\\ 6/3 + 0\\\\8/4 + 2\\end{pmatrix} = \\begin{pmatrix}0 \\\\ 2\\\\4\\end{pmatrix}$$"
   ]
  },
  {
   "cell_type": "markdown",
   "metadata": {},
   "source": [
    "> **Exercício**: faça a operação $\\frac{x_1}{x_2} + x_3$ para obter o vetor `v2`. Não se esqueça de usar divisão inteira para que o resultado seja um vetor de `int`s."
   ]
  },
  {
   "cell_type": "code",
   "execution_count": 40,
   "metadata": {},
   "outputs": [
    {
     "data": {
      "text/plain": [
       "array([0., 2., 4.])"
      ]
     },
     "execution_count": 40,
     "metadata": {},
     "output_type": "execute_result"
    }
   ],
   "source": [
    "v2 = (x1/x2)+x3\n",
    "v2"
   ]
  },
  {
   "cell_type": "markdown",
   "metadata": {},
   "source": [
    "### Terceiro vetor"
   ]
  },
  {
   "cell_type": "markdown",
   "metadata": {},
   "source": [
    "Por fim, o terceiro vetor será obtido da combinação linear dos quatro vetores a seguir."
   ]
  },
  {
   "cell_type": "markdown",
   "metadata": {},
   "source": [
    "$$u_1 = \\begin{pmatrix}3 \\\\1{,}5 \\\\0\\end{pmatrix},~~\n",
    "u_2 = \\begin{pmatrix}4\\\\5\\\\6\\end{pmatrix},~~\n",
    "u_3 = \\begin{pmatrix}1\\\\4\\\\6\\end{pmatrix},~~\n",
    "u_4 = \\begin{pmatrix}3\\\\1{,}6\\\\0{,}6\\end{pmatrix}$$"
   ]
  },
  {
   "cell_type": "markdown",
   "metadata": {},
   "source": [
    "$$v_3 = 3u_1 - 2u_2 + 2u_3 - u_4 = \\begin{pmatrix}0 \\\\ 1{,}2 \\\\-0{,}6\\end{pmatrix}$$"
   ]
  },
  {
   "cell_type": "markdown",
   "metadata": {},
   "source": [
    "> **Exercício**: execute a célula abaixo para declarar os quatro vetores."
   ]
  },
  {
   "cell_type": "code",
   "execution_count": 41,
   "metadata": {},
   "outputs": [],
   "source": [
    "u1 = np.array([3, 1.5, 0])\n",
    "u2 = np.array([4, 5, 6])\n",
    "u3 = np.array([1, 4, 6])\n",
    "u4 = np.array([3, 1.3, 0.6])"
   ]
  },
  {
   "cell_type": "markdown",
   "metadata": {},
   "source": [
    "O vetor `v3` pode ser obtido com o seguinte comando em Python.\n",
    "\n",
    "```Python\n",
    "3*u1 - 2*u2 + 2*u3 - u4\n",
    "```\n",
    "\n",
    "Mas nós podemos fazer de um jeito mais interessante. Podemos montar uma matriz de transformação com base nos vetores $M~=~(u_1,~u_2,~u_3,~u_4)$ e um vetor de pesos $w~=~(3,~-2,~2,~-1)$. Então a combinação linear pode ser representada como a operação $M^T\\cdot{}w$. Isto é:\n",
    "\n",
    "$$v_3 = \\begin{pmatrix}3 & 1{,}5 & 0\\\\4 & 5 & 6\\\\1 & 4 & 6\\\\3 & 1{,}3 & 0.6\\end{pmatrix}^T \\times \\begin{pmatrix}3\\\\-2\\\\2\\\\-1\\end{pmatrix} = \\begin{pmatrix}0 \\\\ 1{,}2 \\\\-0{,}6\\end{pmatrix}$$"
   ]
  },
  {
   "cell_type": "markdown",
   "metadata": {},
   "source": [
    "> **Exercício**: crie uma matriz M a partir de uma lista que contém os vetores `[u1, u2, u3, u4]`. O resultado deverá ser uma matriz com 4 linhas e 3 colunas."
   ]
  },
  {
   "cell_type": "code",
   "execution_count": 42,
   "metadata": {},
   "outputs": [
    {
     "data": {
      "text/plain": [
       "array([[3. , 1.5, 0. ],\n",
       "       [4. , 5. , 6. ],\n",
       "       [1. , 4. , 6. ],\n",
       "       [3. , 1.3, 0.6]])"
      ]
     },
     "execution_count": 42,
     "metadata": {},
     "output_type": "execute_result"
    }
   ],
   "source": [
    "M = np.array([u1,u2,u3,u4])\n",
    "M"
   ]
  },
  {
   "cell_type": "markdown",
   "metadata": {},
   "source": [
    "> **Exercício**: crie um vetor de pesos `w` com os pesos da combinação linear (3, -2, 2 e -1)."
   ]
  },
  {
   "cell_type": "code",
   "execution_count": 43,
   "metadata": {},
   "outputs": [],
   "source": [
    "w = np.array([3,-2,2,-1])\n"
   ]
  },
  {
   "cell_type": "markdown",
   "metadata": {},
   "source": [
    "> **Exercício**: execute a célula abaixo para confirmar `M` e `w`. Se você não fez corretamente, volte e corrija a matriz ou o vetor."
   ]
  },
  {
   "cell_type": "code",
   "execution_count": 44,
   "metadata": {},
   "outputs": [
    {
     "name": "stdout",
     "output_type": "stream",
     "text": [
      "Tudo ok com `M'!\n",
      "Tudo ok com `w'!\n"
     ]
    }
   ],
   "source": [
    "if not 'M' in locals():\n",
    "    print('A matriz M não foi declarada.')\n",
    "elif not 'shape' in dir(M):\n",
    "    print('A variável \"M\" foi declarada, mas não tem o tipo correto.')\n",
    "    print('Ela deveria ser um objeto ndarray do NumPy.')\n",
    "    print(f'O tipo de M é {type(M)}')\n",
    "elif M.shape != (4, 3):\n",
    "    print('As dimensões de \"M\" estão incorretas.')\n",
    "    print('O esperado era (4, 3), mas sua matriz tem dimensões', M.shape)\n",
    "else:\n",
    "    print('Tudo ok com `M\\'!')\n",
    "    \n",
    "if not 'w' in locals():\n",
    "    print('O vetor w não foi declarado.')\n",
    "elif not 'shape' in dir(w):\n",
    "    print('A variável \"w\" foi declarada, mas não tem o tipo correto.')\n",
    "    print('Ela deveria ser um objeto ndarray do NumPy.')\n",
    "    print(f'O tipo de w é {type(w)}')\n",
    "elif w.shape != (4,):\n",
    "    print('As dimensões de \"w\" estão incorretas.')\n",
    "    print('O esperado era (4,), mas seu vetor tem dimensões', w.shape)\n",
    "else:\n",
    "    print('Tudo ok com `w\\'!')"
   ]
  },
  {
   "cell_type": "markdown",
   "metadata": {},
   "source": [
    "Excelente. Agora você pode obter o produto da matriz $M^T$ pelo vetor $w$.\n",
    "\n",
    "- A multiplicação de duas matrizes (ou de uma matriz por um vetor) é obtida por `np.dot`.\n",
    "- Você deve multiplicar *a transposta* de $M$. Para obter a transposta de uma matriz em NumPy, acesse a propriedade `M.T`."
   ]
  },
  {
   "cell_type": "markdown",
   "metadata": {},
   "source": [
    "> **Exercício**: faça a multiplicação $M^T \\times w$ e guarde o resultado em `v3`."
   ]
  },
  {
   "cell_type": "code",
   "execution_count": 45,
   "metadata": {},
   "outputs": [
    {
     "data": {
      "text/plain": [
       "array([ 0. ,  1.2, -0.6])"
      ]
     },
     "execution_count": 45,
     "metadata": {},
     "output_type": "execute_result"
    }
   ],
   "source": [
    "v3 = np.dot(M.T,w)\n",
    "v3"
   ]
  },
  {
   "cell_type": "markdown",
   "metadata": {},
   "source": [
    "Se você fez corretamente, o resultado deverá ser o vetor $(0 ~~~~ 1{,}2 ~~ -0{,}6)$.\n",
    "\n",
    "A ceálula abaixo **tenta** efetuar a comparação entre o seu vetor e o vetor `array([ 0, 1.2, -0.6])`. Mas o resultado **deve** ser `[True, False, False]`."
   ]
  },
  {
   "cell_type": "code",
   "execution_count": 46,
   "metadata": {},
   "outputs": [
    {
     "data": {
      "text/plain": [
       "array([ True, False, False])"
      ]
     },
     "execution_count": 46,
     "metadata": {},
     "output_type": "execute_result"
    }
   ],
   "source": [
    "v3 == np.array([0, 1.2, -0.6])"
   ]
  },
  {
   "cell_type": "markdown",
   "metadata": {},
   "source": [
    "O problema é que a comparação entre números de ponto flutuante **nunca** deve ser feita com o operador de igualdade. Isso independe do NumPy e é uma prática geral de programação.\n",
    "\n",
    "Computadores não trabalham com números reais. Números de ponto flutuante são frações tentando se passar por números reais. Um número de ponto flutuante, como 0.625, deve internamente ser representado por uma soma de **frações diáticas**, que nada mais são do que frações de potências de dois, tais como 1/2, 1/4, 1/8, 1/16 etc. Neste caso específico, o número 0.625 é representado como 1/2 + 1/8."
   ]
  },
  {
   "cell_type": "code",
   "execution_count": 47,
   "metadata": {},
   "outputs": [
    {
     "data": {
      "text/plain": [
       "True"
      ]
     },
     "execution_count": 47,
     "metadata": {},
     "output_type": "execute_result"
    }
   ],
   "source": [
    "0.625 == 1/2 + 1/8"
   ]
  },
  {
   "cell_type": "markdown",
   "metadata": {},
   "source": [
    "Então, muito comumente as operações com pontos flutuantes geram aproximações de aproximações. O caso mais famoso é a verificação de que a soma 0.1 + 0.2 não é exatamente igual a 0.3."
   ]
  },
  {
   "cell_type": "code",
   "execution_count": 48,
   "metadata": {},
   "outputs": [
    {
     "data": {
      "text/plain": [
       "False"
      ]
     },
     "execution_count": 48,
     "metadata": {},
     "output_type": "execute_result"
    }
   ],
   "source": [
    "0.1 + 0.2 == 0.3"
   ]
  },
  {
   "cell_type": "markdown",
   "metadata": {},
   "source": [
    "Isso porque a soma `0.1 + 0.2` resulta em uma fração ligeiramente diferente da fração resultante por `0.3`."
   ]
  },
  {
   "cell_type": "code",
   "execution_count": 49,
   "metadata": {},
   "outputs": [
    {
     "data": {
      "text/plain": [
       "5.551115123125783e-17"
      ]
     },
     "execution_count": 49,
     "metadata": {},
     "output_type": "execute_result"
    }
   ],
   "source": [
    "(0.1 + 0.2) - 0.3"
   ]
  },
  {
   "cell_type": "markdown",
   "metadata": {},
   "source": [
    "Assim, a forma certa de comparar números de pontos flutuantes é verificar a diferença absoluta entre eles. Se essa diferença for um número minúsculo, então consideramos que os dois valores são idênticos e qualquer divergência nos bits é resultados de erros de ponto flutuante."
   ]
  },
  {
   "cell_type": "code",
   "execution_count": 50,
   "metadata": {},
   "outputs": [
    {
     "data": {
      "text/plain": [
       "True"
      ]
     },
     "execution_count": 50,
     "metadata": {},
     "output_type": "execute_result"
    }
   ],
   "source": [
    "abs((0.1+0.2) - 0.3) < 1e-15"
   ]
  },
  {
   "cell_type": "markdown",
   "metadata": {},
   "source": [
    "Então, vamos verificar novamente o vetor. Calcule a diferença entre o vetor `v3` e o vetor `[0, 1.2, -0.6]`. O resultado deve ser inferior a $1\\times10^{-15}$ em todas as coordenadas."
   ]
  },
  {
   "cell_type": "markdown",
   "metadata": {},
   "source": [
    "> **Exercício**: execute a célula abaixo para verificar se v3 é o vetor desejado."
   ]
  },
  {
   "cell_type": "code",
   "execution_count": 51,
   "metadata": {},
   "outputs": [
    {
     "data": {
      "text/plain": [
       "array([ True,  True,  True])"
      ]
     },
     "execution_count": 51,
     "metadata": {},
     "output_type": "execute_result"
    }
   ],
   "source": [
    "v3 - [0, 1.2, -0.6] < 1e-15"
   ]
  },
  {
   "cell_type": "markdown",
   "metadata": {},
   "source": [
    "O resultado deve ter sido um vetor contendo 3 vezes a constante `True`. Vamos resumir isso em um único valor verdade? Use `np.all`. Essa função funciona exatamente como o `all` do NumPy. O resultado será `True` se, e somente se, todos os valores do vetor forem verdadeiros."
   ]
  },
  {
   "cell_type": "markdown",
   "metadata": {},
   "source": [
    "> **Exercício**: execute a célula abaixo para confirmar que o vetor v3 é correto."
   ]
  },
  {
   "cell_type": "code",
   "execution_count": 52,
   "metadata": {},
   "outputs": [
    {
     "data": {
      "text/plain": [
       "True"
      ]
     },
     "execution_count": 52,
     "metadata": {},
     "output_type": "execute_result"
    }
   ],
   "source": [
    "np.all(v3 - [0, 1.2, -0.6] < 1e-15)"
   ]
  },
  {
   "cell_type": "markdown",
   "metadata": {},
   "source": [
    "O resultado deve ter sido um único `True`. Se você obteve um resultado diferente, então volte e corrija o vetor `v3`."
   ]
  },
  {
   "cell_type": "markdown",
   "metadata": {},
   "source": [
    "### Uma base"
   ]
  },
  {
   "cell_type": "markdown",
   "metadata": {},
   "source": [
    "Com os vetores $v_1$, $v_2$ e $v_3$ podemos montar uma base ortogonal. Uma base, em geometria analítica, é um conjunto de vetores linearmente independentes entre si que podem ser usados para representar outros vetores."
   ]
  },
  {
   "cell_type": "markdown",
   "metadata": {},
   "source": [
    "Nossa base será uma matriz que possui os vetores $v_1$, $v_2$ e $v_3$ como colunas:"
   ]
  },
  {
   "cell_type": "markdown",
   "metadata": {},
   "source": [
    "$$B = \\begin{pmatrix}v_1 & v_2 & v_3\\end{pmatrix} = \\begin{pmatrix}1 & 0 & 0\\\\ 0 & 2 & 1{,}2 \\\\ 0 & 4 & -0{,}6\\end{pmatrix}$$"
   ]
  },
  {
   "cell_type": "markdown",
   "metadata": {},
   "source": [
    "> **Exercício**: crie a matriz $B$ a partir de uma lista contendo `v1`, `v2` e `v3`."
   ]
  },
  {
   "cell_type": "code",
   "execution_count": 53,
   "metadata": {},
   "outputs": [
    {
     "data": {
      "text/plain": [
       "array([[ 1. ,  0. ,  0. ],\n",
       "       [ 0. ,  2. ,  1.2],\n",
       "       [ 0. ,  4. , -0.6]])"
      ]
     },
     "execution_count": 53,
     "metadata": {},
     "output_type": "execute_result"
    }
   ],
   "source": [
    "B = np.array([v1,v2 ,v3])\n",
    "B = B.T\n",
    "B"
   ]
  },
  {
   "cell_type": "markdown",
   "metadata": {},
   "source": [
    "Certifique-se de que a matriz está correta antes de prosseguir."
   ]
  },
  {
   "cell_type": "markdown",
   "metadata": {},
   "source": [
    "Vamos verificar a ortogonalidade da base. Uma base é ortogonal se os seus vetores são ortogonais. E dois vetores são ortogonais se os seu produto escalar for zero.\n",
    "\n",
    "$$u =\\begin{pmatrix}1 & 0 & 0\\end{pmatrix}$$\n",
    "\n",
    "$$v =\\begin{pmatrix}0 & 2 & 4\\end{pmatrix}$$\n",
    "\n",
    "$$u \\cdot v = 1\\times0 + 0\\times2 + 0\\times 4 = 0$$\n",
    "\n",
    "Uma forma bem conveniente de fazer esse cálculo para a base $B$ é multiplicar a transposta de $B$ por $B$:\n",
    "\n",
    "$$B^T \\times B$$\n",
    "\n",
    "O resultado deverá ser uma matriz diagonal, que possui $||v_i||^2$ na diagonal e zero nas demais posições. Desenhe a matriz em papel para entender por quê."
   ]
  },
  {
   "cell_type": "markdown",
   "metadata": {},
   "source": [
    "> **Exercício**: multiplique, usando `np.dot`, a transposta de `B` com a própria `B`. Guarde o resultado em uma matriz `R`."
   ]
  },
  {
   "cell_type": "code",
   "execution_count": 54,
   "metadata": {},
   "outputs": [
    {
     "data": {
      "text/plain": [
       "array([[1.00000000e+00, 0.00000000e+00, 0.00000000e+00],\n",
       "       [0.00000000e+00, 2.00000000e+01, 1.77635684e-15],\n",
       "       [0.00000000e+00, 1.77635684e-15, 1.80000000e+00]])"
      ]
     },
     "execution_count": 54,
     "metadata": {},
     "output_type": "execute_result"
    }
   ],
   "source": [
    "R = np.dot(B.T,B)\n",
    "R"
   ]
  },
  {
   "cell_type": "markdown",
   "metadata": {},
   "source": [
    "Se você fez corretamente, o resultado deverá conter os valores $1$, $20$ e $1{,}8$ na diagonal. O restante da matriz deverá estar preenchido com zeros (ou pontos flutuantes extremamente próximos de zero)."
   ]
  },
  {
   "cell_type": "markdown",
   "metadata": {},
   "source": [
    "### Uma base ortonormal"
   ]
  },
  {
   "cell_type": "markdown",
   "metadata": {},
   "source": [
    "Mas $B$ não é uma base ortonormal. Uma base ortonormal é uma base ortogonal de vetores unitários."
   ]
  },
  {
   "cell_type": "markdown",
   "metadata": {},
   "source": [
    "Podemos verificar que $B$ não é ortonormal testando a norma dos vetores $v_1$, $v_2$ e $v_3$. A norma pode ser calculada da seguinte forma:"
   ]
  },
  {
   "cell_type": "markdown",
   "metadata": {},
   "source": [
    "$$||v|| = \\sqrt{v \\cdot v} = \\sqrt{v \\times v^T}$$"
   ]
  },
  {
   "cell_type": "markdown",
   "metadata": {},
   "source": [
    "Como os vetores da nossa base estão nas colunas de $B$, podemos calcular a norma de cada vetor pelo seguinte procedimento:\n",
    "\n",
    "1. Multiplique `B * B`. Isso dará o produto de cada vetor por ele mesmo\n",
    "1. Some o resultado ao longo do eixo 0. Isso dará o produto escalar\n",
    "1. Tire a raiz quadrada. O resultado será um vetor com 3 valores que possui a norma de `v1`, `v2` e `v3`"
   ]
  },
  {
   "cell_type": "code",
   "execution_count": 55,
   "metadata": {},
   "outputs": [
    {
     "data": {
      "text/plain": [
       "array([1.        , 4.47213595, 1.34164079])"
      ]
     },
     "execution_count": 55,
     "metadata": {},
     "output_type": "execute_result"
    }
   ],
   "source": [
    "G = np.sqrt(np.sum(B*B,axis=0))\n",
    "G"
   ]
  },
  {
   "cell_type": "markdown",
   "metadata": {},
   "source": [
    "O resultado deverá ser, aproximadamente\n",
    "\n",
    "$$||v_1|| = 1$$\n",
    "$$||v_2|| \\approx 4{,}4721$$\n",
    "$$||v_3|| \\approx 1{,}3416$$"
   ]
  },
  {
   "cell_type": "markdown",
   "metadata": {},
   "source": [
    "Para obter a base ortonormal, basta dividir cada coluna de $B$ pela posição correta do vetor de normas. Você consegue enxergar como fazer isso com *broadcasting*?"
   ]
  },
  {
   "cell_type": "markdown",
   "metadata": {},
   "source": [
    "> **Exercício**: obtenha `B1`, a versão ortonormal de `B`, dividindo cada vetor de `B` pela sua norma."
   ]
  },
  {
   "cell_type": "code",
   "execution_count": 65,
   "metadata": {},
   "outputs": [
    {
     "data": {
      "text/plain": [
       "array([[ 1.        ,  0.        ,  0.        ],\n",
       "       [ 0.        ,  0.4472136 ,  0.89442719],\n",
       "       [ 0.        ,  0.89442719, -0.4472136 ]])"
      ]
     },
     "execution_count": 65,
     "metadata": {},
     "output_type": "execute_result"
    }
   ],
   "source": [
    "B1 = B.T/G.reshape(-1,1)\n",
    "B1"
   ]
  },
  {
   "cell_type": "markdown",
   "metadata": {},
   "source": [
    "Se você fez corretamente, o resultado deverá ser aproximadamente o seguinte:\n",
    "\n",
    "```Python\n",
    "array([[ 1.    ,  0.    ,  0.    ],\n",
    "       [ 0.    ,  0.4472,  0.8944],\n",
    "       [ 0.    ,  0.8944, -0.4472]])\n",
    "```"
   ]
  },
  {
   "cell_type": "markdown",
   "metadata": {},
   "source": [
    "### Ufa...\n",
    "\n",
    "A parte mais difícil da atividade passou...\n",
    "\n",
    "Agora você conseguirá fazer as manipulações de vetores do restante da atividade sem nenhuma dificuldade."
   ]
  },
  {
   "cell_type": "markdown",
   "metadata": {},
   "source": [
    "## Números pseudoaleatórios"
   ]
  },
  {
   "cell_type": "markdown",
   "metadata": {},
   "source": [
    "Na atividade anterior você gerou um vetor de valores aleatórios utilizando compreensão de listas.\n",
    "\n",
    "Agora você deverá usar o NumPy.\n",
    "\n",
    "Use `numpy.random` para as atividades a seguir."
   ]
  },
  {
   "cell_type": "markdown",
   "metadata": {},
   "source": [
    "> **Exercício**: crie um gerador de números pseudoaleatórios a partir da semente `10`."
   ]
  },
  {
   "cell_type": "code",
   "execution_count": 84,
   "metadata": {},
   "outputs": [],
   "source": [
    "rng = np.random.RandomState(seed=10)\n"
   ]
  },
  {
   "cell_type": "markdown",
   "metadata": {},
   "source": [
    "> **Exercício**: gere uma coleção de 10 números aleatórios uniformemente distribuídos no intervalo $[0,1)$."
   ]
  },
  {
   "cell_type": "code",
   "execution_count": 85,
   "metadata": {},
   "outputs": [
    {
     "data": {
      "text/plain": [
       "[0.771320643266746,\n",
       " 0.0207519493594015,\n",
       " 0.6336482349262754,\n",
       " 0.7488038825386119,\n",
       " 0.4985070123025904,\n",
       " 0.22479664553084766,\n",
       " 0.19806286475962398,\n",
       " 0.7605307121989587,\n",
       " 0.16911083656253545,\n",
       " 0.08833981417401027]"
      ]
     },
     "execution_count": 85,
     "metadata": {},
     "output_type": "execute_result"
    }
   ],
   "source": [
    "list = [rng.rand() for x in range(10)]\n",
    "list"
   ]
  },
  {
   "cell_type": "markdown",
   "metadata": {},
   "source": [
    "> **Exercício**: utilize o PyPlot para gerar um histograma dessa coleção."
   ]
  },
  {
   "cell_type": "code",
   "execution_count": 86,
   "metadata": {},
   "outputs": [
    {
     "data": {
      "image/png": "[encoded data removed]",
      "text/plain": [
       "<Figure size 600x400 with 1 Axes>"
      ]
     },
     "metadata": {},
     "output_type": "display_data"
    }
   ],
   "source": [
    "plt.figure(figsize=(6,4))\n",
    "plt.hist(list)\n",
    "plt.show() "
   ]
  },
  {
   "cell_type": "markdown",
   "metadata": {},
   "source": [
    "O resultado deverá ser parecido com o seguinte. (verifique [este link](https://imgur.com/a/histograma-esperado-para-o-exerc-cio-da-atividade-2-c7HHjA6) se a imagem não estiver aparecendo no Colaboratory)"
   ]
  },
  {
   "cell_type": "markdown",
   "metadata": {},
   "source": [
    "![image.png](data:image/png;base64,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)"
   ]
  },
  {
   "cell_type": "markdown",
   "metadata": {},
   "source": [
    "Definitivamente não se parece com dados amostrados de uma distribuição uniforme. Será que é por causa da semente escolhida pelo professor para o *notebook*?"
   ]
  },
  {
   "cell_type": "markdown",
   "metadata": {},
   "source": [
    "> **Exercício**: com um novo `rng`, usando uma semente diferente escolhida por você, gere um vetor de dez números no intervalo $[0,1)$ e depois um histograma."
   ]
  },
  {
   "cell_type": "code",
   "execution_count": 87,
   "metadata": {},
   "outputs": [
    {
     "data": {
      "image/png": "[encoded data removed]",
      "text/plain": [
       "<Figure size 600x400 with 1 Axes>"
      ]
     },
     "metadata": {},
     "output_type": "display_data"
    }
   ],
   "source": [
    "rng = np.random.RandomState(20)\n",
    "list = [rng.rand() for x in range(10)]\n",
    "plt.figure(figsize=(6,4))\n",
    "plt.hist(list)\n",
    "plt.show()"
   ]
  },
  {
   "cell_type": "markdown",
   "metadata": {},
   "source": [
    "Não, o resultado continua não sendo o que desejávamos. O problema é que estamos selecionando uma amostra muito pequena e ela não é representativa da distribuição."
   ]
  },
  {
   "cell_type": "markdown",
   "metadata": {},
   "source": [
    "> **Exercício**: gere uma amostra maior e faça um histograma representativo da distribuição uniforme no intervalo $[0,1)$."
   ]
  },
  {
   "cell_type": "code",
   "execution_count": 89,
   "metadata": {},
   "outputs": [
    {
     "data": {
      "image/png": "[encoded data removed]",
      "text/plain": [
       "<Figure size 600x400 with 1 Axes>"
      ]
     },
     "metadata": {},
     "output_type": "display_data"
    }
   ],
   "source": [
    "list = [rng.rand() for x in range(1000)]\n",
    "plt.figure(figsize=(6,4))\n",
    "plt.hist(list)\n",
    "plt.show()"
   ]
  },
  {
   "cell_type": "markdown",
   "metadata": {},
   "source": [
    "## Distribuições de variáveis aleatórias"
   ]
  },
  {
   "cell_type": "markdown",
   "metadata": {},
   "source": [
    "Um importante resultado da estatística é o Teorema do Limite Central. Ele diz que o valor médio de uma coleção de variáveis aleatórias independentes aproxima-se de uma distribuição normal.\n",
    "\n",
    "Por exemplo, suponha a seguinte coleção de variáveis aleatórias que seguem a distribuição uniforme no intervalo $[0, 1)$\n",
    "\n",
    "$$X_1, X_2, \\ldots, X_n \\sim \\mathcal{U}(0, 1),$$\n",
    "\n",
    "A média dessas variáveis é um valor desconhecido, mas vai seguir uma distrbuição normal com média $\\mu=0{,}5$. Isso é verdade, de acordo com o teorema do limite central, para qualquer distribuição das variáveis escolhidas:\n",
    "\n",
    "> Seja $X_1, X_2, X_3, \\ldots, X_n$ uma coleção de variáveis aleatórias independentes e identicamente distribuídas (isto é, todas selecionadas da mesma distribuição) tais que todas têm média $\\mu$.\n",
    ">\n",
    "> Então a variável aleatória\n",
    ">\n",
    "> $$Z_n = \\frac{X_1 + X_2 + X_3 + \\ldots + X_n}{n}$$\n",
    ">\n",
    "> Terá distribuição normal com média $\\mu$. \n",
    "\n",
    "Isso é relevante porque existem váris situações nas quais precisamos supor que uma amostra (ou parte dela, como um atributo) segue alguma distribuição específica. E quando pudermos usar a média dessas variáveis, então sabemos que essa média seguirá uma gaussiana."
   ]
  },
  {
   "cell_type": "markdown",
   "metadata": {},
   "source": [
    "Além disso, essa informação também pode ser usada como uma forma rudimentar de amostrar variáveis aleatórias seguindo uma distribuição aproximadamente normal. O Python possui formas mais sofisticadas de se fazer isso, mas é interesante vermos que conseguimos um resultado razoável com ferramentas simples."
   ]
  },
  {
   "cell_type": "markdown",
   "metadata": {},
   "source": [
    "> **Exercício**: escreva uma função chamada `Z(n)` que gera `n` variáveis aleatórias uniformemente distribuídas no intervalo $[0,1)$ e retorna o valor médio dessas variáveis."
   ]
  },
  {
   "cell_type": "code",
   "execution_count": 59,
   "metadata": {},
   "outputs": [],
   "source": [
    "def Z(n):\n",
    "      pass #remova esta linha e complete a função"
   ]
  },
  {
   "cell_type": "markdown",
   "metadata": {},
   "source": [
    "Se você fez corretamente, então a próxima célula deverá imprimir um valor bastante próximo de $0{,}5$, que é o valor médio da distribuição uniforme $\\mathcal{U}(0, 1)$."
   ]
  },
  {
   "cell_type": "code",
   "execution_count": 60,
   "metadata": {},
   "outputs": [],
   "source": [
    "Z(1000)"
   ]
  },
  {
   "cell_type": "markdown",
   "metadata": {},
   "source": [
    "Observe que sua função gera, para valores suficientemente grandes de $n$, **uma variável normal** com média $0{,}5$. Vamos verificar isso selecionando uma amostra maior de `Z`."
   ]
  },
  {
   "cell_type": "markdown",
   "metadata": {},
   "source": [
    "> **Exercício**: amostre 100.000 variáveis aleatórias da função `Z`, usando um valor de $n$ suficientemente grande para que `Z(n)` se aproxime de uma distribuição normal. Não use laços de repetição; use compreensão de listas."
   ]
  },
  {
   "cell_type": "code",
   "execution_count": null,
   "metadata": {},
   "outputs": [],
   "source": []
  },
  {
   "cell_type": "markdown",
   "metadata": {},
   "source": [
    "### Distribuições do NumPy"
   ]
  },
  {
   "cell_type": "markdown",
   "metadata": {},
   "source": [
    "Existem formas mais sofisticas de se gerar números aleatórios segundo uma distribuição normal. O NumPy implementa essa e diversas outras distribuições."
   ]
  },
  {
   "cell_type": "markdown",
   "metadata": {},
   "source": [
    "> **Exercício**: utilize `numpy.random.RandomState` para instanciar um gerador de números pseudoaleatórios com um estado inicial bem definido."
   ]
  },
  {
   "cell_type": "code",
   "execution_count": 61,
   "metadata": {},
   "outputs": [],
   "source": [
    "rng = ..."
   ]
  },
  {
   "cell_type": "markdown",
   "metadata": {},
   "source": [
    "> **Exercício**: procurem em `rng`, qual é a função que retorna números pseudoaleatórios a partir de uma distribuição normal. Em seguida, gere um vetor contendo 10 valores amostrados da distribuição normal padrão $\\mathcal{N}(0,1)$."
   ]
  },
  {
   "cell_type": "code",
   "execution_count": 62,
   "metadata": {},
   "outputs": [],
   "source": [
    "amostra_normal = ..."
   ]
  },
  {
   "cell_type": "markdown",
   "metadata": {},
   "source": [
    "> **Exercício**: amostre $10.000$ números da distribuição normal padrão e plote um histograma.\n",
    "</div></div>"
   ]
  },
  {
   "cell_type": "code",
   "execution_count": 63,
   "metadata": {},
   "outputs": [
    {
     "ename": "SyntaxError",
     "evalue": "invalid syntax (3481697355.py, line 1)",
     "output_type": "error",
     "traceback": [
      "\u001b[0;36m  Cell \u001b[0;32mIn[63], line 1\u001b[0;36m\u001b[0m\n\u001b[0;31m    amostra_normal = ...math.sqrt(G[0].sum()),\u001b[0m\n\u001b[0m                        ^\u001b[0m\n\u001b[0;31mSyntaxError\u001b[0m\u001b[0;31m:\u001b[0m invalid syntax\n"
     ]
    }
   ],
   "source": [
    "amostra_normal = ...math.sqrt(G[0].sum()),"
   ]
  },
  {
   "cell_type": "code",
   "execution_count": null,
   "metadata": {},
   "outputs": [],
   "source": [
    "plt.hist(amostra_normal);"
   ]
  },
  {
   "cell_type": "markdown",
   "metadata": {},
   "source": [
    "O resultado deverá ser parecido com o seguinte (clique [neste link](https://imgur.com/a/exemplo-de-distribui-o-normal-obtida-na-atividade-2-WAP0qbt) se a imagem não aparecer no Colaboratory)"
   ]
  },
  {
   "attachments": {
    "image.png": {
     "image/png": "[encoded data removed]"
    }
   },
   "cell_type": "markdown",
   "metadata": {},
   "source": [
    "![image.png](attachment:image.png)"
   ]
  },
  {
   "cell_type": "markdown",
   "metadata": {},
   "source": [
    "Agora vamos comparar diferentes distribuições normais."
   ]
  },
  {
   "cell_type": "markdown",
   "metadata": {},
   "source": [
    "> **Exercício**: gere e guarde no vetor `n1` uma amostra de $10$ mil valores a partir de uma normal com média $\\mu=0$ e desvio padrão $\\sigma^2=1$."
   ]
  },
  {
   "cell_type": "code",
   "execution_count": null,
   "metadata": {},
   "outputs": [],
   "source": [
    "n1 = ..."
   ]
  },
  {
   "cell_type": "markdown",
   "metadata": {},
   "source": [
    "> **Exercício**: gere e guarde no vetor `n2` uma amostra de $10$ mil valores a partir de uma normal com média $\\mu=1$ e desvio padrão $\\sigma^2=1$."
   ]
  },
  {
   "cell_type": "code",
   "execution_count": null,
   "metadata": {},
   "outputs": [],
   "source": [
    "n2 = ..."
   ]
  },
  {
   "cell_type": "markdown",
   "metadata": {},
   "source": [
    "> **Exercício**: gere e guarde no vetor `n3` uma amostra de $10$ mil valores a partir de uma normal com média $\\mu=0$ e desvio padrão $\\sigma^2=3$."
   ]
  },
  {
   "cell_type": "code",
   "execution_count": null,
   "metadata": {},
   "outputs": [],
   "source": [
    "n3 = ..."
   ]
  },
  {
   "cell_type": "markdown",
   "metadata": {},
   "source": [
    "> **Exercício**: execute a célula abaixo para plotar os histogramas das três amostras."
   ]
  },
  {
   "cell_type": "code",
   "execution_count": null,
   "metadata": {},
   "outputs": [],
   "source": [
    "plt.figure();\n",
    "plt.hist(n1, alpha=.5, bins=100, color='r');\n",
    "plt.hist(n2, alpha=.5, bins=100, color='g');\n",
    "plt.hist(n3, alpha=.5, bins=100, color='b');\n",
    "plt.legend();"
   ]
  },
  {
   "cell_type": "markdown",
   "metadata": {},
   "source": [
    "O  resultado deverá ser semelhante ao seguinte: (clique [neste link](https://imgur.com/a/gr-fico-com-as-tr-s-amostras-normais-da-atividade-2-cNRJrzH) se a imagem não aparecer no Colaboratory)"
   ]
  },
  {
   "attachments": {
    "image.png": {
     "image/png": "[encoded data removed]"
    }
   },
   "cell_type": "markdown",
   "metadata": {},
   "source": [
    "![image.png](attachment:image.png)"
   ]
  },
  {
   "cell_type": "markdown",
   "metadata": {},
   "source": [
    "> **Exercício**: você conhece outras distribuições? Verifique se elas estão no NumPy. Utilize, por exemplo, um comando `dir` na classe do gerador pseudoaleatório. Explore as funções."
   ]
  },
  {
   "cell_type": "code",
   "execution_count": null,
   "metadata": {},
   "outputs": [],
   "source": []
  },
  {
   "cell_type": "markdown",
   "metadata": {},
   "source": [
    "## Sequências numéricas e funções de agregação"
   ]
  },
  {
   "cell_type": "markdown",
   "metadata": {},
   "source": [
    "Para essa atividade, baixe os arquivos de dados que estão no ColabWeb."
   ]
  },
  {
   "cell_type": "markdown",
   "metadata": {},
   "source": [
    "> **Exercício**: utilize a função `numpy.loadtxt` para carregar a sequência numérica do arquivo `lavras.txt`"
   ]
  },
  {
   "cell_type": "code",
   "execution_count": null,
   "metadata": {},
   "outputs": [],
   "source": [
    "lavras = ..."
   ]
  },
  {
   "cell_type": "markdown",
   "metadata": {},
   "source": [
    "O resultado deverá ser um vetor com 384 valores numéricos. Eles representam os níveis de chuva mensais observados na cidade de Lavras (MG) entre janeiro de 1966 até dezembo de 1997."
   ]
  },
  {
   "cell_type": "markdown",
   "metadata": {},
   "source": [
    "> **Exercício**: verifique o formato (`shape`) do vetor `lavras`. Ele deverá conter 384 observações de uma série temporal. Confirme aritmeticamente que isso equivale a 32 anos."
   ]
  },
  {
   "cell_type": "code",
   "execution_count": null,
   "metadata": {},
   "outputs": [],
   "source": []
  },
  {
   "cell_type": "markdown",
   "metadata": {},
   "source": [
    "> **Exercício**: gere um gráfico dessa sequência utilizando PyPlot."
   ]
  },
  {
   "cell_type": "code",
   "execution_count": null,
   "metadata": {},
   "outputs": [],
   "source": [
    "# plt.plot(...)"
   ]
  },
  {
   "cell_type": "markdown",
   "metadata": {},
   "source": [
    "> **Exercício**: o resultado provavelmente não foi muito legível. Use a função `plt.figure` para criar a figura **antes** de plotar. O argumento `figsize` recebe uma tupla que especifica o tamanho da figura em polegadas. Use essa funcionalidade para gerar uma figura mais legível.\n"
   ]
  },
  {
   "cell_type": "code",
   "execution_count": null,
   "metadata": {},
   "outputs": [],
   "source": [
    "# plt.figure(figsize=(...));\n",
    "# plt.plot(...);"
   ]
  },
  {
   "cell_type": "markdown",
   "metadata": {},
   "source": [
    "> **Exercício**: sabendo que a série contém dados mensais de chuvas de 1966 até 1997, isole e plote os níveis de chuva no ano 1997. Use a lista de meses a seguir para que o eixo \"x\" seja rotulado com os nomes dos meses do ano."
   ]
  },
  {
   "cell_type": "code",
   "execution_count": null,
   "metadata": {},
   "outputs": [],
   "source": [
    "meses = ['jan', 'fev', 'mar', 'abr', 'mai', 'jun', 'jul', 'ago', 'set', 'out', 'nov', 'dez']"
   ]
  },
  {
   "cell_type": "code",
   "execution_count": null,
   "metadata": {},
   "outputs": [],
   "source": [
    "# plt.figure(figsize=...);\n",
    "# plt.plot(...);"
   ]
  },
  {
   "cell_type": "markdown",
   "metadata": {},
   "source": [
    "> **Exercício**: isole e plote os níveis de chuva no ano 1970."
   ]
  },
  {
   "cell_type": "code",
   "execution_count": null,
   "metadata": {},
   "outputs": [],
   "source": []
  },
  {
   "cell_type": "markdown",
   "metadata": {},
   "source": [
    "Um jeito mais fácil de trabalhar seria transformar a sequência em uma matriz na qual cada linha é um ano. Para isso a matriz deverá ter 12 colunas e um número apropriado de linhas (que você irá encontrar)."
   ]
  },
  {
   "cell_type": "markdown",
   "metadata": {},
   "source": [
    "> **Exercício**: utilizando `reshape`, transforme a sequência em uma matriz na qual cada linha é um ano."
   ]
  },
  {
   "cell_type": "code",
   "execution_count": null,
   "metadata": {},
   "outputs": [],
   "source": []
  },
  {
   "cell_type": "markdown",
   "metadata": {},
   "source": [
    "> **Exercício** isole os níveis de chuva nos anos de 1966, 1970 e 1997 utilizando a matriz. Gere um gráfico comparando os três anos. Não se esqueça de rotular corretamente o eixo \"x\" e use `label` corretamente para gerar a legenda."
   ]
  },
  {
   "cell_type": "code",
   "execution_count": null,
   "metadata": {},
   "outputs": [],
   "source": [
    "# plt.figure(figsize=...);\n",
    "# plt.plot(..., label='1966');\n",
    "# plt.plot(..., label='1990');\n",
    "# plt.plot(..., label='1997');\n",
    "# plt.legend();"
   ]
  },
  {
   "cell_type": "markdown",
   "metadata": {},
   "source": [
    "> **Exercício**: encontre os valores médios, mínimos e máximos de chuva em cada mês (para os 32 anos). Use as funções de agragação apropriadas no eixo correto.\n",
    "</div></div>"
   ]
  },
  {
   "cell_type": "code",
   "execution_count": null,
   "metadata": {},
   "outputs": [],
   "source": []
  },
  {
   "cell_type": "markdown",
   "metadata": {},
   "source": [
    "Um tipo de gráfico muito útil é o gráfico de barras. O Matplotlib permite gerar gráficos de barras com a função `bar`. A assinatura completa dessa função é\n",
    "\n",
    "```Python\n",
    "plt.bar(x, height, width=0.8, bottom=None, *, align='center', data=None, **kwargs)\n",
    "```\n",
    "\n",
    "Então a função exige pelo menos dois argumentos posicionais: um para os valores ou rótulos de cada barra e outro com as alturas das barras."
   ]
  },
  {
   "cell_type": "markdown",
   "metadata": {},
   "source": [
    "> **Exercício:** gere um gráfico de barras com o nível médio de chuva em cada mês. Faça o mesmo para os valores mínimos e máximos"
   ]
  },
  {
   "cell_type": "code",
   "execution_count": null,
   "metadata": {},
   "outputs": [],
   "source": [
    "meses = ['jan', 'fev', 'mar', 'abr', 'mai', 'jun', 'jul', 'ago', 'set', 'out', 'nov', 'dez']"
   ]
  },
  {
   "cell_type": "code",
   "execution_count": null,
   "metadata": {},
   "outputs": [],
   "source": []
  }
 ],
 "metadata": {
  "kernelspec": {
   "display_name": "Python 3 (ipykernel)",
   "language": "python",
   "name": "python3"
  },
  "language_info": {
   "codemirror_mode": {
    "name": "ipython",
    "version": 3
   },
   "file_extension": ".py",
   "mimetype": "text/x-python",
   "name": "python",
   "nbconvert_exporter": "python",
   "pygments_lexer": "ipython3",
   "version": "3.10.12"
  }
 },
 "nbformat": 4,
 "nbformat_minor": 2
}
